{
 "cells": [
  {
   "cell_type": "code",
   "execution_count": 1,
   "id": "1e3923b3",
   "metadata": {},
   "outputs": [],
   "source": [
    "import pandas as pd"
   ]
  },
  {
   "cell_type": "code",
   "execution_count": 2,
   "id": "41548d68",
   "metadata": {},
   "outputs": [],
   "source": [
    "train=pd.read_csv(\"train.csv\",parse_dates=['date_time'])"
   ]
  },
  {
   "cell_type": "code",
   "execution_count": 3,
   "id": "a24ae970",
   "metadata": {
    "scrolled": true
   },
   "outputs": [
    {
     "data": {
      "text/html": [
       "<div>\n",
       "<style scoped>\n",
       "    .dataframe tbody tr th:only-of-type {\n",
       "        vertical-align: middle;\n",
       "    }\n",
       "\n",
       "    .dataframe tbody tr th {\n",
       "        vertical-align: top;\n",
       "    }\n",
       "\n",
       "    .dataframe thead th {\n",
       "        text-align: right;\n",
       "    }\n",
       "</style>\n",
       "<table border=\"1\" class=\"dataframe\">\n",
       "  <thead>\n",
       "    <tr style=\"text-align: right;\">\n",
       "      <th></th>\n",
       "      <th>srch_id</th>\n",
       "      <th>date_time</th>\n",
       "      <th>site_id</th>\n",
       "      <th>visitor_location_country_id</th>\n",
       "      <th>visitor_hist_starrating</th>\n",
       "      <th>visitor_hist_adr_usd</th>\n",
       "      <th>prop_country_id</th>\n",
       "      <th>prop_id</th>\n",
       "      <th>prop_starrating</th>\n",
       "      <th>prop_review_score</th>\n",
       "      <th>...</th>\n",
       "      <th>comp6_rate_percent_diff</th>\n",
       "      <th>comp7_rate</th>\n",
       "      <th>comp7_inv</th>\n",
       "      <th>comp7_rate_percent_diff</th>\n",
       "      <th>comp8_rate</th>\n",
       "      <th>comp8_inv</th>\n",
       "      <th>comp8_rate_percent_diff</th>\n",
       "      <th>click_bool</th>\n",
       "      <th>gross_bookings_usd</th>\n",
       "      <th>booking_bool</th>\n",
       "    </tr>\n",
       "  </thead>\n",
       "  <tbody>\n",
       "    <tr>\n",
       "      <th>0</th>\n",
       "      <td>1</td>\n",
       "      <td>2013-04-04 08:32:15</td>\n",
       "      <td>12</td>\n",
       "      <td>187</td>\n",
       "      <td>NaN</td>\n",
       "      <td>NaN</td>\n",
       "      <td>219</td>\n",
       "      <td>893</td>\n",
       "      <td>3</td>\n",
       "      <td>3.5</td>\n",
       "      <td>...</td>\n",
       "      <td>NaN</td>\n",
       "      <td>NaN</td>\n",
       "      <td>NaN</td>\n",
       "      <td>NaN</td>\n",
       "      <td>0.0</td>\n",
       "      <td>0.0</td>\n",
       "      <td>NaN</td>\n",
       "      <td>0</td>\n",
       "      <td>NaN</td>\n",
       "      <td>0</td>\n",
       "    </tr>\n",
       "    <tr>\n",
       "      <th>1</th>\n",
       "      <td>1</td>\n",
       "      <td>2013-04-04 08:32:15</td>\n",
       "      <td>12</td>\n",
       "      <td>187</td>\n",
       "      <td>NaN</td>\n",
       "      <td>NaN</td>\n",
       "      <td>219</td>\n",
       "      <td>10404</td>\n",
       "      <td>4</td>\n",
       "      <td>4.0</td>\n",
       "      <td>...</td>\n",
       "      <td>NaN</td>\n",
       "      <td>NaN</td>\n",
       "      <td>NaN</td>\n",
       "      <td>NaN</td>\n",
       "      <td>0.0</td>\n",
       "      <td>0.0</td>\n",
       "      <td>NaN</td>\n",
       "      <td>0</td>\n",
       "      <td>NaN</td>\n",
       "      <td>0</td>\n",
       "    </tr>\n",
       "    <tr>\n",
       "      <th>2</th>\n",
       "      <td>1</td>\n",
       "      <td>2013-04-04 08:32:15</td>\n",
       "      <td>12</td>\n",
       "      <td>187</td>\n",
       "      <td>NaN</td>\n",
       "      <td>NaN</td>\n",
       "      <td>219</td>\n",
       "      <td>21315</td>\n",
       "      <td>3</td>\n",
       "      <td>4.5</td>\n",
       "      <td>...</td>\n",
       "      <td>NaN</td>\n",
       "      <td>NaN</td>\n",
       "      <td>NaN</td>\n",
       "      <td>NaN</td>\n",
       "      <td>0.0</td>\n",
       "      <td>0.0</td>\n",
       "      <td>NaN</td>\n",
       "      <td>0</td>\n",
       "      <td>NaN</td>\n",
       "      <td>0</td>\n",
       "    </tr>\n",
       "    <tr>\n",
       "      <th>3</th>\n",
       "      <td>1</td>\n",
       "      <td>2013-04-04 08:32:15</td>\n",
       "      <td>12</td>\n",
       "      <td>187</td>\n",
       "      <td>NaN</td>\n",
       "      <td>NaN</td>\n",
       "      <td>219</td>\n",
       "      <td>27348</td>\n",
       "      <td>2</td>\n",
       "      <td>4.0</td>\n",
       "      <td>...</td>\n",
       "      <td>NaN</td>\n",
       "      <td>NaN</td>\n",
       "      <td>NaN</td>\n",
       "      <td>NaN</td>\n",
       "      <td>-1.0</td>\n",
       "      <td>0.0</td>\n",
       "      <td>5.0</td>\n",
       "      <td>0</td>\n",
       "      <td>NaN</td>\n",
       "      <td>0</td>\n",
       "    </tr>\n",
       "    <tr>\n",
       "      <th>4</th>\n",
       "      <td>1</td>\n",
       "      <td>2013-04-04 08:32:15</td>\n",
       "      <td>12</td>\n",
       "      <td>187</td>\n",
       "      <td>NaN</td>\n",
       "      <td>NaN</td>\n",
       "      <td>219</td>\n",
       "      <td>29604</td>\n",
       "      <td>4</td>\n",
       "      <td>3.5</td>\n",
       "      <td>...</td>\n",
       "      <td>NaN</td>\n",
       "      <td>NaN</td>\n",
       "      <td>NaN</td>\n",
       "      <td>NaN</td>\n",
       "      <td>0.0</td>\n",
       "      <td>0.0</td>\n",
       "      <td>NaN</td>\n",
       "      <td>0</td>\n",
       "      <td>NaN</td>\n",
       "      <td>0</td>\n",
       "    </tr>\n",
       "    <tr>\n",
       "      <th>...</th>\n",
       "      <td>...</td>\n",
       "      <td>...</td>\n",
       "      <td>...</td>\n",
       "      <td>...</td>\n",
       "      <td>...</td>\n",
       "      <td>...</td>\n",
       "      <td>...</td>\n",
       "      <td>...</td>\n",
       "      <td>...</td>\n",
       "      <td>...</td>\n",
       "      <td>...</td>\n",
       "      <td>...</td>\n",
       "      <td>...</td>\n",
       "      <td>...</td>\n",
       "      <td>...</td>\n",
       "      <td>...</td>\n",
       "      <td>...</td>\n",
       "      <td>...</td>\n",
       "      <td>...</td>\n",
       "      <td>...</td>\n",
       "      <td>...</td>\n",
       "    </tr>\n",
       "    <tr>\n",
       "      <th>9917525</th>\n",
       "      <td>665574</td>\n",
       "      <td>2013-05-21 11:06:37</td>\n",
       "      <td>24</td>\n",
       "      <td>216</td>\n",
       "      <td>NaN</td>\n",
       "      <td>NaN</td>\n",
       "      <td>117</td>\n",
       "      <td>32019</td>\n",
       "      <td>4</td>\n",
       "      <td>3.5</td>\n",
       "      <td>...</td>\n",
       "      <td>NaN</td>\n",
       "      <td>NaN</td>\n",
       "      <td>NaN</td>\n",
       "      <td>NaN</td>\n",
       "      <td>NaN</td>\n",
       "      <td>NaN</td>\n",
       "      <td>NaN</td>\n",
       "      <td>0</td>\n",
       "      <td>NaN</td>\n",
       "      <td>0</td>\n",
       "    </tr>\n",
       "    <tr>\n",
       "      <th>9917526</th>\n",
       "      <td>665574</td>\n",
       "      <td>2013-05-21 11:06:37</td>\n",
       "      <td>24</td>\n",
       "      <td>216</td>\n",
       "      <td>NaN</td>\n",
       "      <td>NaN</td>\n",
       "      <td>117</td>\n",
       "      <td>33959</td>\n",
       "      <td>4</td>\n",
       "      <td>3.0</td>\n",
       "      <td>...</td>\n",
       "      <td>NaN</td>\n",
       "      <td>NaN</td>\n",
       "      <td>NaN</td>\n",
       "      <td>NaN</td>\n",
       "      <td>NaN</td>\n",
       "      <td>NaN</td>\n",
       "      <td>NaN</td>\n",
       "      <td>1</td>\n",
       "      <td>154.34</td>\n",
       "      <td>1</td>\n",
       "    </tr>\n",
       "    <tr>\n",
       "      <th>9917527</th>\n",
       "      <td>665574</td>\n",
       "      <td>2013-05-21 11:06:37</td>\n",
       "      <td>24</td>\n",
       "      <td>216</td>\n",
       "      <td>NaN</td>\n",
       "      <td>NaN</td>\n",
       "      <td>117</td>\n",
       "      <td>35240</td>\n",
       "      <td>4</td>\n",
       "      <td>0.0</td>\n",
       "      <td>...</td>\n",
       "      <td>NaN</td>\n",
       "      <td>NaN</td>\n",
       "      <td>NaN</td>\n",
       "      <td>NaN</td>\n",
       "      <td>NaN</td>\n",
       "      <td>NaN</td>\n",
       "      <td>NaN</td>\n",
       "      <td>0</td>\n",
       "      <td>NaN</td>\n",
       "      <td>0</td>\n",
       "    </tr>\n",
       "    <tr>\n",
       "      <th>9917528</th>\n",
       "      <td>665574</td>\n",
       "      <td>2013-05-21 11:06:37</td>\n",
       "      <td>24</td>\n",
       "      <td>216</td>\n",
       "      <td>NaN</td>\n",
       "      <td>NaN</td>\n",
       "      <td>117</td>\n",
       "      <td>94437</td>\n",
       "      <td>4</td>\n",
       "      <td>0.0</td>\n",
       "      <td>...</td>\n",
       "      <td>NaN</td>\n",
       "      <td>NaN</td>\n",
       "      <td>NaN</td>\n",
       "      <td>NaN</td>\n",
       "      <td>NaN</td>\n",
       "      <td>NaN</td>\n",
       "      <td>NaN</td>\n",
       "      <td>0</td>\n",
       "      <td>NaN</td>\n",
       "      <td>0</td>\n",
       "    </tr>\n",
       "    <tr>\n",
       "      <th>9917529</th>\n",
       "      <td>665574</td>\n",
       "      <td>2013-05-21 11:06:37</td>\n",
       "      <td>24</td>\n",
       "      <td>216</td>\n",
       "      <td>NaN</td>\n",
       "      <td>NaN</td>\n",
       "      <td>117</td>\n",
       "      <td>99509</td>\n",
       "      <td>4</td>\n",
       "      <td>4.5</td>\n",
       "      <td>...</td>\n",
       "      <td>NaN</td>\n",
       "      <td>NaN</td>\n",
       "      <td>NaN</td>\n",
       "      <td>NaN</td>\n",
       "      <td>NaN</td>\n",
       "      <td>NaN</td>\n",
       "      <td>NaN</td>\n",
       "      <td>0</td>\n",
       "      <td>NaN</td>\n",
       "      <td>0</td>\n",
       "    </tr>\n",
       "  </tbody>\n",
       "</table>\n",
       "<p>9917530 rows × 54 columns</p>\n",
       "</div>"
      ],
      "text/plain": [
       "         srch_id           date_time  site_id  visitor_location_country_id  \\\n",
       "0              1 2013-04-04 08:32:15       12                          187   \n",
       "1              1 2013-04-04 08:32:15       12                          187   \n",
       "2              1 2013-04-04 08:32:15       12                          187   \n",
       "3              1 2013-04-04 08:32:15       12                          187   \n",
       "4              1 2013-04-04 08:32:15       12                          187   \n",
       "...          ...                 ...      ...                          ...   \n",
       "9917525   665574 2013-05-21 11:06:37       24                          216   \n",
       "9917526   665574 2013-05-21 11:06:37       24                          216   \n",
       "9917527   665574 2013-05-21 11:06:37       24                          216   \n",
       "9917528   665574 2013-05-21 11:06:37       24                          216   \n",
       "9917529   665574 2013-05-21 11:06:37       24                          216   \n",
       "\n",
       "         visitor_hist_starrating  visitor_hist_adr_usd  prop_country_id  \\\n",
       "0                            NaN                   NaN              219   \n",
       "1                            NaN                   NaN              219   \n",
       "2                            NaN                   NaN              219   \n",
       "3                            NaN                   NaN              219   \n",
       "4                            NaN                   NaN              219   \n",
       "...                          ...                   ...              ...   \n",
       "9917525                      NaN                   NaN              117   \n",
       "9917526                      NaN                   NaN              117   \n",
       "9917527                      NaN                   NaN              117   \n",
       "9917528                      NaN                   NaN              117   \n",
       "9917529                      NaN                   NaN              117   \n",
       "\n",
       "         prop_id  prop_starrating  prop_review_score  ...  \\\n",
       "0            893                3                3.5  ...   \n",
       "1          10404                4                4.0  ...   \n",
       "2          21315                3                4.5  ...   \n",
       "3          27348                2                4.0  ...   \n",
       "4          29604                4                3.5  ...   \n",
       "...          ...              ...                ...  ...   \n",
       "9917525    32019                4                3.5  ...   \n",
       "9917526    33959                4                3.0  ...   \n",
       "9917527    35240                4                0.0  ...   \n",
       "9917528    94437                4                0.0  ...   \n",
       "9917529    99509                4                4.5  ...   \n",
       "\n",
       "         comp6_rate_percent_diff  comp7_rate  comp7_inv  \\\n",
       "0                            NaN         NaN        NaN   \n",
       "1                            NaN         NaN        NaN   \n",
       "2                            NaN         NaN        NaN   \n",
       "3                            NaN         NaN        NaN   \n",
       "4                            NaN         NaN        NaN   \n",
       "...                          ...         ...        ...   \n",
       "9917525                      NaN         NaN        NaN   \n",
       "9917526                      NaN         NaN        NaN   \n",
       "9917527                      NaN         NaN        NaN   \n",
       "9917528                      NaN         NaN        NaN   \n",
       "9917529                      NaN         NaN        NaN   \n",
       "\n",
       "         comp7_rate_percent_diff  comp8_rate  comp8_inv  \\\n",
       "0                            NaN         0.0        0.0   \n",
       "1                            NaN         0.0        0.0   \n",
       "2                            NaN         0.0        0.0   \n",
       "3                            NaN        -1.0        0.0   \n",
       "4                            NaN         0.0        0.0   \n",
       "...                          ...         ...        ...   \n",
       "9917525                      NaN         NaN        NaN   \n",
       "9917526                      NaN         NaN        NaN   \n",
       "9917527                      NaN         NaN        NaN   \n",
       "9917528                      NaN         NaN        NaN   \n",
       "9917529                      NaN         NaN        NaN   \n",
       "\n",
       "         comp8_rate_percent_diff  click_bool  gross_bookings_usd  booking_bool  \n",
       "0                            NaN           0                 NaN             0  \n",
       "1                            NaN           0                 NaN             0  \n",
       "2                            NaN           0                 NaN             0  \n",
       "3                            5.0           0                 NaN             0  \n",
       "4                            NaN           0                 NaN             0  \n",
       "...                          ...         ...                 ...           ...  \n",
       "9917525                      NaN           0                 NaN             0  \n",
       "9917526                      NaN           1              154.34             1  \n",
       "9917527                      NaN           0                 NaN             0  \n",
       "9917528                      NaN           0                 NaN             0  \n",
       "9917529                      NaN           0                 NaN             0  \n",
       "\n",
       "[9917530 rows x 54 columns]"
      ]
     },
     "execution_count": 3,
     "metadata": {},
     "output_type": "execute_result"
    }
   ],
   "source": [
    "train"
   ]
  },
  {
   "cell_type": "markdown",
   "id": "020c4baa",
   "metadata": {},
   "source": [
    "### PREPROCESSING"
   ]
  },
  {
   "cell_type": "code",
   "execution_count": 4,
   "id": "ec63a9c6",
   "metadata": {},
   "outputs": [
    {
     "name": "stdout",
     "output_type": "stream",
     "text": [
      "Number of unique search ids in original dataset: 399344\n"
     ]
    }
   ],
   "source": [
    "print(\"Number of unique search ids in original dataset: \" +str(len(train['srch_id'].unique())))"
   ]
  },
  {
   "cell_type": "markdown",
   "id": "0b22cc2c",
   "metadata": {},
   "source": [
    "#### Missing Values (Drop Columns)"
   ]
  },
  {
   "cell_type": "code",
   "execution_count": 5,
   "id": "310d33ae",
   "metadata": {
    "scrolled": true
   },
   "outputs": [
    {
     "name": "stdout",
     "output_type": "stream",
     "text": [
      "Percentage of Null Values for each Feature\n"
     ]
    },
    {
     "data": {
      "text/plain": [
       "srch_id                         0.000000\n",
       "date_time                       0.000000\n",
       "site_id                         0.000000\n",
       "visitor_location_country_id     0.000000\n",
       "visitor_hist_starrating        94.905012\n",
       "visitor_hist_adr_usd           94.881669\n",
       "prop_country_id                 0.000000\n",
       "prop_id                         0.000000\n",
       "prop_starrating                 0.000000\n",
       "prop_review_score               0.147517\n",
       "prop_brand_bool                 0.000000\n",
       "prop_location_score1            0.000000\n",
       "prop_location_score2           21.964945\n",
       "prop_log_historical_price       0.000000\n",
       "position                        0.000000\n",
       "price_usd                       0.000000\n",
       "promotion_flag                  0.000000\n",
       "srch_destination_id             0.000000\n",
       "srch_length_of_stay             0.000000\n",
       "srch_booking_window             0.000000\n",
       "srch_adults_count               0.000000\n",
       "srch_children_count             0.000000\n",
       "srch_room_count                 0.000000\n",
       "srch_saturday_night_bool        0.000000\n",
       "srch_query_affinity_score      93.591509\n",
       "orig_destination_distance      32.432077\n",
       "random_bool                     0.000000\n",
       "comp1_rate                     97.622331\n",
       "comp1_inv                      97.434512\n",
       "comp1_rate_percent_diff        98.135554\n",
       "comp2_rate                     59.257668\n",
       "comp2_inv                      57.131080\n",
       "comp2_rate_percent_diff        88.809240\n",
       "comp3_rate                     69.152874\n",
       "comp3_inv                      66.804023\n",
       "comp3_rate_percent_diff        90.481430\n",
       "comp4_rate                     93.747445\n",
       "comp4_inv                      93.017707\n",
       "comp4_rate_percent_diff        97.335899\n",
       "comp5_rate                     55.187491\n",
       "comp5_inv                      52.399105\n",
       "comp5_rate_percent_diff        83.050155\n",
       "comp6_rate                     95.135008\n",
       "comp6_inv                      94.714964\n",
       "comp6_rate_percent_diff        98.050805\n",
       "comp7_rate                     93.636752\n",
       "comp7_inv                      92.808945\n",
       "comp7_rate_percent_diff        97.198516\n",
       "comp8_rate                     61.491994\n",
       "comp8_inv                      60.066791\n",
       "comp8_rate_percent_diff        87.641005\n",
       "click_bool                      0.000000\n",
       "gross_bookings_usd             97.211080\n",
       "booking_bool                    0.000000\n",
       "dtype: float64"
      ]
     },
     "execution_count": 5,
     "metadata": {},
     "output_type": "execute_result"
    }
   ],
   "source": [
    "print(\"Percentage of Null Values for each Feature\")\n",
    "train.isnull().sum()*100/len(train)"
   ]
  },
  {
   "cell_type": "code",
   "execution_count": 6,
   "id": "f3b9f7c9",
   "metadata": {},
   "outputs": [
    {
     "data": {
      "text/plain": [
       "Text(0, 0.5, 'Feature')"
      ]
     },
     "execution_count": 6,
     "metadata": {},
     "output_type": "execute_result"
    },
    {
     "data": {
      "image/png": "[encoded data removed]",
      "text/plain": [
       "<Figure size 800x800 with 1 Axes>"
      ]
     },
     "metadata": {
      "needs_background": "light"
     },
     "output_type": "display_data"
    }
   ],
   "source": [
    "import matplotlib.pyplot as plt\n",
    "plt.figure(figsize=(10, 10), dpi=80)\n",
    "s=train.isnull().sum()*100/len(train)\n",
    "plt.barh(s.index, s.values)\n",
    "plt.title(\"Percentage of Null Values for each Feature\")\n",
    "plt.xlabel(\"Percentage (%)\")\n",
    "plt.ylabel(\"Feature\")"
   ]
  },
  {
   "cell_type": "code",
   "execution_count": 7,
   "id": "c115a4e2",
   "metadata": {
    "scrolled": true
   },
   "outputs": [
    {
     "name": "stdout",
     "output_type": "stream",
     "text": [
      "Columns to Drop (More than 80% Missing Values)\n",
      "visitor_hist_starrating\n",
      "visitor_hist_adr_usd\n",
      "srch_query_affinity_score\n",
      "comp1_rate\n",
      "comp1_inv\n",
      "comp1_rate_percent_diff\n",
      "comp2_rate_percent_diff\n",
      "comp3_rate_percent_diff\n",
      "comp4_rate\n",
      "comp4_inv\n",
      "comp4_rate_percent_diff\n",
      "comp5_rate_percent_diff\n",
      "comp6_rate\n",
      "comp6_inv\n",
      "comp6_rate_percent_diff\n",
      "comp7_rate\n",
      "comp7_inv\n",
      "comp7_rate_percent_diff\n",
      "comp8_rate_percent_diff\n",
      "gross_bookings_usd\n"
     ]
    }
   ],
   "source": [
    "drop_columns= []\n",
    "limit=0.8\n",
    "dataset_samples=len(train)\n",
    "dataset_columns=list(train.columns)\n",
    "\n",
    "for i in range(len(train.columns)):\n",
    "    nans = sum(train.iloc[:, i].isnull())\n",
    "    if (nans/dataset_samples) > limit:\n",
    "        drop_columns.append(dataset_columns[i])\n",
    "\n",
    "print(\"Columns to Drop (More than 80% Missing Values)\")\n",
    "print(*drop_columns,sep='\\n')\n",
    "\n",
    "train_new = train.drop(labels=drop_columns, axis=1)"
   ]
  },
  {
   "cell_type": "code",
   "execution_count": 8,
   "id": "fec51b1c",
   "metadata": {
    "scrolled": true
   },
   "outputs": [
    {
     "name": "stdout",
     "output_type": "stream",
     "text": [
      "Percentage of Null Values for Features left\n"
     ]
    },
    {
     "data": {
      "text/plain": [
       "srch_id                         0.000000\n",
       "date_time                       0.000000\n",
       "site_id                         0.000000\n",
       "visitor_location_country_id     0.000000\n",
       "prop_country_id                 0.000000\n",
       "prop_id                         0.000000\n",
       "prop_starrating                 0.000000\n",
       "prop_review_score               0.147517\n",
       "prop_brand_bool                 0.000000\n",
       "prop_location_score1            0.000000\n",
       "prop_location_score2           21.964945\n",
       "prop_log_historical_price       0.000000\n",
       "position                        0.000000\n",
       "price_usd                       0.000000\n",
       "promotion_flag                  0.000000\n",
       "srch_destination_id             0.000000\n",
       "srch_length_of_stay             0.000000\n",
       "srch_booking_window             0.000000\n",
       "srch_adults_count               0.000000\n",
       "srch_children_count             0.000000\n",
       "srch_room_count                 0.000000\n",
       "srch_saturday_night_bool        0.000000\n",
       "orig_destination_distance      32.432077\n",
       "random_bool                     0.000000\n",
       "comp2_rate                     59.257668\n",
       "comp2_inv                      57.131080\n",
       "comp3_rate                     69.152874\n",
       "comp3_inv                      66.804023\n",
       "comp5_rate                     55.187491\n",
       "comp5_inv                      52.399105\n",
       "comp8_rate                     61.491994\n",
       "comp8_inv                      60.066791\n",
       "click_bool                      0.000000\n",
       "booking_bool                    0.000000\n",
       "dtype: float64"
      ]
     },
     "execution_count": 8,
     "metadata": {},
     "output_type": "execute_result"
    }
   ],
   "source": [
    "print(\"Percentage of Null Values for Features left\")\n",
    "train_new.isnull().sum()*100/len(train_new)"
   ]
  },
  {
   "cell_type": "markdown",
   "id": "dc7b7efe",
   "metadata": {},
   "source": [
    "#### Feature Transformation"
   ]
  },
  {
   "cell_type": "code",
   "execution_count": 9,
   "id": "f5cff804",
   "metadata": {},
   "outputs": [],
   "source": [
    "train_new['year'] = pd.DatetimeIndex(train_new['date_time']).year\n",
    "train_new['month'] = pd.DatetimeIndex(train_new['date_time']).month\n",
    "train_new['day'] = pd.DatetimeIndex(train_new['date_time']).day\n",
    "train_new=train_new.drop(['date_time'], axis=1)"
   ]
  },
  {
   "cell_type": "markdown",
   "id": "5138f31f",
   "metadata": {},
   "source": [
    "#### Missing Values (Impute Values)"
   ]
  },
  {
   "cell_type": "code",
   "execution_count": 10,
   "id": "675820d9",
   "metadata": {},
   "outputs": [],
   "source": [
    "from sklearn.impute import SimpleImputer\n",
    "import numpy as np\n",
    "\n",
    "train_new.replace('nan',np.NaN,inplace=True)\n",
    "imp=SimpleImputer(missing_values=np.NaN,strategy='mean') #Or strategy='most_frequent'\n",
    "\n",
    "train_imp=pd.DataFrame(imp.fit_transform(train_new))\n",
    "train_imp.columns=train_new.columns\n",
    "train_imp.index=train_new.index\n",
    "\n",
    "train_new=train_imp"
   ]
  },
  {
   "cell_type": "markdown",
   "id": "4545faaf",
   "metadata": {},
   "source": [
    "#### Dimensionality Reduction (Variance Threshold)"
   ]
  },
  {
   "cell_type": "code",
   "execution_count": 11,
   "id": "3d52c994",
   "metadata": {
    "scrolled": true
   },
   "outputs": [
    {
     "name": "stdout",
     "output_type": "stream",
     "text": [
      "Columns to Delete with Variance Threshold (threshold=1)\n",
      "prop_brand_bool\n",
      "prop_location_score2\n",
      "promotion_flag\n",
      "srch_adults_count\n",
      "srch_children_count\n",
      "srch_room_count\n",
      "srch_saturday_night_bool\n",
      "random_bool\n",
      "comp2_rate\n",
      "comp2_inv\n",
      "comp3_rate\n",
      "comp3_inv\n",
      "comp5_rate\n",
      "comp5_inv\n",
      "comp8_rate\n",
      "comp8_inv\n",
      "click_bool\n",
      "booking_bool\n",
      "year\n"
     ]
    }
   ],
   "source": [
    "from sklearn.feature_selection import VarianceThreshold\n",
    "\n",
    "selector=VarianceThreshold(threshold=1)\n",
    "train_reduced_var=selector.fit_transform(train_new)\n",
    "mask=selector.get_support()\n",
    "concol=[column for column in train_new.columns if column not in train_new.columns[mask]]\n",
    "print('Columns to Delete with Variance Threshold (threshold=1)' )\n",
    "print(*concol,sep='\\n')"
   ]
  },
  {
   "cell_type": "code",
   "execution_count": 12,
   "id": "0cf7b4b5",
   "metadata": {
    "scrolled": true
   },
   "outputs": [
    {
     "name": "stdout",
     "output_type": "stream",
     "text": [
      "Percentage of Null Values for Final Features\n"
     ]
    },
    {
     "data": {
      "text/plain": [
       "srch_id                        0.0\n",
       "site_id                        0.0\n",
       "visitor_location_country_id    0.0\n",
       "prop_country_id                0.0\n",
       "prop_id                        0.0\n",
       "prop_starrating                0.0\n",
       "prop_review_score              0.0\n",
       "prop_brand_bool                0.0\n",
       "prop_location_score1           0.0\n",
       "prop_location_score2           0.0\n",
       "prop_log_historical_price      0.0\n",
       "position                       0.0\n",
       "price_usd                      0.0\n",
       "promotion_flag                 0.0\n",
       "srch_destination_id            0.0\n",
       "srch_length_of_stay            0.0\n",
       "srch_booking_window            0.0\n",
       "srch_adults_count              0.0\n",
       "srch_children_count            0.0\n",
       "srch_room_count                0.0\n",
       "srch_saturday_night_bool       0.0\n",
       "orig_destination_distance      0.0\n",
       "random_bool                    0.0\n",
       "comp2_rate                     0.0\n",
       "comp2_inv                      0.0\n",
       "comp3_rate                     0.0\n",
       "comp3_inv                      0.0\n",
       "comp5_rate                     0.0\n",
       "comp5_inv                      0.0\n",
       "comp8_rate                     0.0\n",
       "comp8_inv                      0.0\n",
       "click_bool                     0.0\n",
       "booking_bool                   0.0\n",
       "year                           0.0\n",
       "month                          0.0\n",
       "day                            0.0\n",
       "dtype: float64"
      ]
     },
     "execution_count": 12,
     "metadata": {},
     "output_type": "execute_result"
    }
   ],
   "source": [
    "print(\"Percentage of Null Values for Final Features\")\n",
    "train_new.isnull().sum()*100/len(train_new)"
   ]
  },
  {
   "cell_type": "markdown",
   "id": "8bc8f357",
   "metadata": {},
   "source": [
    "#### Data selection"
   ]
  },
  {
   "cell_type": "code",
   "execution_count": 13,
   "id": "5cfa10e5",
   "metadata": {},
   "outputs": [],
   "source": [
    "train_new['class'] = train_new['click_bool']"
   ]
  },
  {
   "cell_type": "code",
   "execution_count": 14,
   "id": "dbc4006f",
   "metadata": {},
   "outputs": [],
   "source": [
    "selected_ids = np.random.choice(train_new.srch_id.unique(),round(len(train_new.srch_id.unique())*0.6),replace = False)\n",
    "train_new = train_new[train_new.srch_id.isin(selected_ids)]"
   ]
  },
  {
   "cell_type": "code",
   "execution_count": 15,
   "id": "7a7f6884",
   "metadata": {},
   "outputs": [
    {
     "name": "stdout",
     "output_type": "stream",
     "text": [
      "Percentage of samples from original dataset left: 0.6001417691703479\n"
     ]
    }
   ],
   "source": [
    "print('Percentage of samples from original dataset left: ' + str(len(train_new)/len(train)))"
   ]
  },
  {
   "cell_type": "code",
   "execution_count": 16,
   "id": "75358818",
   "metadata": {},
   "outputs": [],
   "source": [
    "train_new=train_new.sort_index(axis = 0)"
   ]
  },
  {
   "cell_type": "code",
   "execution_count": 17,
   "id": "022ce5d7",
   "metadata": {},
   "outputs": [],
   "source": [
    "from sklearn.model_selection import GroupShuffleSplit\n",
    "splitter = GroupShuffleSplit(test_size=.30, n_splits=2, random_state = 7)\n",
    "split = splitter.split(train_new, groups=train_new['srch_id'])\n",
    "train_inds, test_inds = next(split)\n",
    "\n",
    "df1 = train_new.iloc[train_inds]\n",
    "df2 = train_new.iloc[test_inds]\n",
    "\n",
    "train_set=df1.loc[:,df1.columns!='class']\n",
    "train_labels=df1['class']\n",
    "train_set=train_set.drop(['booking_bool','click_bool'], axis=1)\n",
    "\n",
    "test_set=df2.loc[:,df2.columns!='class']\n",
    "test_labels=df2['class']"
   ]
  },
  {
   "cell_type": "markdown",
   "id": "a3a7c817",
   "metadata": {},
   "source": [
    "#### Imbalanced Data (OverSampling)"
   ]
  },
  {
   "cell_type": "code",
   "execution_count": 18,
   "id": "d054e7c6",
   "metadata": {},
   "outputs": [
    {
     "name": "stdout",
     "output_type": "stream",
     "text": [
      "Percentage of samples for each class before OverSampling\n",
      "[(0.0, 95.53233148320508), (1.0, 4.467668516794919)]\n"
     ]
    }
   ],
   "source": [
    "from collections import Counter\n",
    "print(\"Percentage of samples for each class before OverSampling\")\n",
    "c=Counter(train_labels)\n",
    "print([(i, c[i] / len(train_labels) * 100.0) for i in c])"
   ]
  },
  {
   "cell_type": "code",
   "execution_count": 19,
   "id": "8b5c1202",
   "metadata": {},
   "outputs": [],
   "source": [
    "from imblearn.over_sampling import RandomOverSampler \n",
    "ros = RandomOverSampler(random_state=0)\n",
    "train_set, train_labels = ros.fit_resample(train_set, train_labels)"
   ]
  },
  {
   "cell_type": "code",
   "execution_count": 20,
   "id": "055a17c4",
   "metadata": {},
   "outputs": [
    {
     "name": "stdout",
     "output_type": "stream",
     "text": [
      "Percentage of samples for each class after OverSampling\n",
      "[(0.0, 50.0), (1.0, 50.0)]\n"
     ]
    }
   ],
   "source": [
    "print(\"Percentage of samples for each class after OverSampling\")\n",
    "c=Counter(train_labels)\n",
    "print([(i, c[i] / len(train_labels) * 100.0) for i in c])"
   ]
  },
  {
   "cell_type": "code",
   "execution_count": 21,
   "id": "6ea932a1",
   "metadata": {},
   "outputs": [
    {
     "name": "stdout",
     "output_type": "stream",
     "text": [
      "Number of unique search ids in final train set: 167724\n",
      "Number of features in final train set: 34\n",
      "Number of samples in final train set: 7960820\n"
     ]
    }
   ],
   "source": [
    "print(\"Number of unique search ids in final train set: \" +str(len(train_set.srch_id.unique())))\n",
    "print(\"Number of features in final train set: \" +str(len(train_set.columns)))\n",
    "print(\"Number of samples in final train set: \" +str(len(train_set)))"
   ]
  },
  {
   "cell_type": "code",
   "execution_count": 22,
   "id": "086ffcce",
   "metadata": {
    "scrolled": true
   },
   "outputs": [
    {
     "name": "stdout",
     "output_type": "stream",
     "text": [
      "Features left on Final Train Set\n",
      "srch_id\n",
      "site_id\n",
      "visitor_location_country_id\n",
      "prop_country_id\n",
      "prop_id\n",
      "prop_starrating\n",
      "prop_review_score\n",
      "prop_brand_bool\n",
      "prop_location_score1\n",
      "prop_location_score2\n",
      "prop_log_historical_price\n",
      "position\n",
      "price_usd\n",
      "promotion_flag\n",
      "srch_destination_id\n",
      "srch_length_of_stay\n",
      "srch_booking_window\n",
      "srch_adults_count\n",
      "srch_children_count\n",
      "srch_room_count\n",
      "srch_saturday_night_bool\n",
      "orig_destination_distance\n",
      "random_bool\n",
      "comp2_rate\n",
      "comp2_inv\n",
      "comp3_rate\n",
      "comp3_inv\n",
      "comp5_rate\n",
      "comp5_inv\n",
      "comp8_rate\n",
      "comp8_inv\n",
      "year\n",
      "month\n",
      "day\n"
     ]
    }
   ],
   "source": [
    "print('Features left on Final Train Set' )\n",
    "print(*train_set.columns,sep='\\n')"
   ]
  },
  {
   "cell_type": "markdown",
   "id": "89617ebd",
   "metadata": {},
   "source": [
    "#### Dimensionality Reduction (PCA)"
   ]
  },
  {
   "cell_type": "code",
   "execution_count": 23,
   "id": "8e59479b",
   "metadata": {},
   "outputs": [],
   "source": [
    "from sklearn.decomposition import PCA\n",
    "\n",
    "n = 30\n",
    "pca = PCA(n_components=n)\n",
    "\n",
    "train_set_pca = pca.fit_transform(train_set)\n",
    "test_set_pca = pca.transform(test_set.drop(['booking_bool','click_bool'], axis=1))"
   ]
  },
  {
   "cell_type": "code",
   "execution_count": 24,
   "id": "2c8af122",
   "metadata": {},
   "outputs": [],
   "source": [
    "predictions={}\n",
    "accuracy={}\n",
    "f1score={}\n",
    "ndcg={}"
   ]
  },
  {
   "cell_type": "markdown",
   "id": "aed66f9c",
   "metadata": {},
   "source": [
    "### NDCG SCORE"
   ]
  },
  {
   "cell_type": "code",
   "execution_count": 25,
   "id": "e8b4d6f7",
   "metadata": {},
   "outputs": [],
   "source": [
    "import numpy as np\n",
    "from sklearn.metrics import ndcg_score\n",
    "import math\n",
    "\n",
    "\n",
    "def calculate_ideal_dcg_score(subsetdf):\n",
    "    optimum_sorting = subsetdf.sort_values(['relevance_score'], ascending=False)['relevance_score'].tolist()\n",
    "    DCG = 0\n",
    "    position = 1\n",
    "    for score in optimum_sorting:\n",
    "        DCG += (math.pow(2,score) - 1) / math.log(position + 1, 2)\n",
    "        position += 1\n",
    "    return DCG\n",
    "\n",
    "def calculate_dcg_score(subsetdf):\n",
    "    sorting = subsetdf.sort_values(['pred'], ascending=False)['relevance_score'].tolist()\n",
    "    # Calculate the DCG\n",
    "    DCG = 0\n",
    "    position = 1\n",
    "    for score in sorting:\n",
    "        DCG += (math.pow(2,score) - 1) / math.log(position + 1, 2)\n",
    "        position += 1\n",
    "    return DCG\n",
    "\n",
    "\n",
    "def ndcg_calc(predictions,test_labels):\n",
    "    df = test_set.assign(real=test_labels.values)\n",
    "    df = df.assign(pred=predictions)\n",
    "    summ=0\n",
    "    total=0\n",
    "    for df2 in df.groupby(['srch_id']):\n",
    "        df1=df2[1]\n",
    "        if (len(df1)>1):\n",
    "            df1['relevance_score']=0\n",
    "            for i in range(len(df1)):\n",
    "                if df1.iloc[i]['booking_bool']==1:\n",
    "                    df1.iloc[i, df1.columns.get_loc('relevance_score')] = 5\n",
    "                elif df1.iloc[i]['click_bool']==1:\n",
    "                    df1.iloc[i, df1.columns.get_loc('relevance_score')] = 1\n",
    "            \n",
    "            idcg = calculate_ideal_dcg_score(df1)\n",
    "            if idcg > 0:\n",
    "                obtained_score = calculate_dcg_score(df1)\n",
    "                NDCG = float(obtained_score) / float(idcg)\n",
    "                summ+=NDCG\n",
    "                total=total+1\n",
    "    result=summ/total\n",
    "    return result"
   ]
  },
  {
   "cell_type": "markdown",
   "id": "01ad62d2",
   "metadata": {},
   "source": [
    "### METHODS"
   ]
  },
  {
   "cell_type": "markdown",
   "id": "e0ac21a2",
   "metadata": {},
   "source": [
    "#### Gaussian Naive Bayes (GNB)"
   ]
  },
  {
   "cell_type": "code",
   "execution_count": 26,
   "id": "80ef131e",
   "metadata": {},
   "outputs": [
    {
     "name": "stdout",
     "output_type": "stream",
     "text": [
      "              precision    recall  f1-score   support\n",
      "\n",
      "         0.0       0.98      0.60      0.75   1705436\n",
      "         1.0       0.08      0.75      0.15     79930\n",
      "\n",
      "    accuracy                           0.61   1785366\n",
      "   macro avg       0.53      0.67      0.45   1785366\n",
      "weighted avg       0.94      0.61      0.72   1785366\n",
      "\n",
      "NDCG score = 0.4039092382196658\n"
     ]
    }
   ],
   "source": [
    "from sklearn.naive_bayes import GaussianNB\n",
    "from sklearn.metrics import classification_report,accuracy_score, f1_score\n",
    "\n",
    "gnb = GaussianNB()\n",
    "model = gnb.fit(train_set_pca, train_labels)\n",
    "predictions['Gaussian Naive Bayes']=gnb.predict(test_set_pca)\n",
    "\n",
    "print (classification_report(test_labels, predictions['Gaussian Naive Bayes']))\n",
    "accuracy['Gaussian Naive Bayes']=accuracy_score(test_labels, predictions['Gaussian Naive Bayes'])\n",
    "f1score['Gaussian Naive Bayes']=f1_score(test_labels,predictions['Gaussian Naive Bayes'],average='macro',zero_division=0)\n",
    "ndcg['Gaussian Naive Bayes']=ndcg_calc(predictions['Gaussian Naive Bayes'],test_labels)\n",
    "print(\"NDCG score = \" + str(ndcg['Gaussian Naive Bayes']))"
   ]
  },
  {
   "cell_type": "code",
   "execution_count": 27,
   "id": "c4f4cfaa",
   "metadata": {},
   "outputs": [
    {
     "data": {
      "text/plain": [
       "<AxesSubplot:>"
      ]
     },
     "execution_count": 27,
     "metadata": {},
     "output_type": "execute_result"
    },
    {
     "data": {
      "image/png": "[encoded data removed]",
      "text/plain": [
       "<Figure size 432x288 with 1 Axes>"
      ]
     },
     "metadata": {
      "needs_background": "light"
     },
     "output_type": "display_data"
    }
   ],
   "source": [
    "from sklearn.metrics import confusion_matrix\n",
    "import seaborn as sns\n",
    "mat=confusion_matrix(test_labels, predictions['Gaussian Naive Bayes'])\n",
    "sns.heatmap(mat.T,square=True,annot=True,fmt='d',cbar=False)"
   ]
  },
  {
   "cell_type": "markdown",
   "id": "7c5b2756",
   "metadata": {},
   "source": [
    "#### Logistic Regression"
   ]
  },
  {
   "cell_type": "code",
   "execution_count": 28,
   "id": "337c7e8a",
   "metadata": {
    "scrolled": true
   },
   "outputs": [
    {
     "name": "stdout",
     "output_type": "stream",
     "text": [
      "              precision    recall  f1-score   support\n",
      "\n",
      "         0.0       0.98      0.61      0.75   1705436\n",
      "         1.0       0.08      0.74      0.15     79930\n",
      "\n",
      "    accuracy                           0.62   1785366\n",
      "   macro avg       0.53      0.68      0.45   1785366\n",
      "weighted avg       0.94      0.62      0.72   1785366\n",
      "\n",
      "NDCG score = 0.4050962760424247\n"
     ]
    }
   ],
   "source": [
    "from sklearn.linear_model import LogisticRegression\n",
    "\n",
    "lr = LogisticRegression(max_iter=500)\n",
    "model = lr.fit(train_set_pca, train_labels)\n",
    "predictions['Logistic Regression']=lr.predict(test_set_pca)\n",
    "\n",
    "print (classification_report(test_labels, predictions['Logistic Regression']))\n",
    "accuracy['Logistic Regression']=accuracy_score(test_labels, predictions['Logistic Regression'])\n",
    "f1score['Logistic Regression']=f1_score(test_labels,predictions['Logistic Regression'],average='macro',zero_division=0)\n",
    "ndcg['Logistic Regression']=ndcg_calc(predictions['Logistic Regression'],test_labels)\n",
    "print(\"NDCG score = \" + str(ndcg['Logistic Regression']))"
   ]
  },
  {
   "cell_type": "code",
   "execution_count": 29,
   "id": "bc459103",
   "metadata": {},
   "outputs": [
    {
     "data": {
      "text/plain": [
       "<AxesSubplot:>"
      ]
     },
     "execution_count": 29,
     "metadata": {},
     "output_type": "execute_result"
    },
    {
     "data": {
      "image/png": "[encoded data removed]",
      "text/plain": [
       "<Figure size 432x288 with 1 Axes>"
      ]
     },
     "metadata": {
      "needs_background": "light"
     },
     "output_type": "display_data"
    }
   ],
   "source": [
    "mat=confusion_matrix(test_labels, predictions['Logistic Regression'])\n",
    "sns.heatmap(mat.T,square=True,annot=True,fmt='d',cbar=False)"
   ]
  },
  {
   "cell_type": "markdown",
   "id": "9c55d852",
   "metadata": {},
   "source": [
    "#### K-Nearest Neighbors (Knn)"
   ]
  },
  {
   "cell_type": "code",
   "execution_count": null,
   "id": "ca24b550",
   "metadata": {
    "scrolled": true
   },
   "outputs": [],
   "source": [
    "from sklearn.neighbors import KNeighborsClassifier\n",
    "\n",
    "knn = KNeighborsClassifier()\n",
    "model=knn.fit(train_set_pca, train_labels)\n",
    "predictions['K Nearest Neighbors']=knn.predict(test_set_pca)\n",
    "\n",
    "print (classification_report(test_labels, predictions['K Nearest Neighbors']))\n",
    "accuracy['K Nearest Neighbors']=accuracy_score(test_labels, predictions['K Nearest Neighbors'])\n",
    "f1score['K Nearest Neighbors']=f1_score(test_labels,predictions['K Nearest Neighbors'],average='macro',zero_division=0)\n",
    "ndcg['K Nearest Neighbors']=ndcg_calc(predictions['K Nearest Neighbors'],test_labels)\n",
    "print(\"NDCG score = \" + str(ndcg['K Nearest Neighbors']))"
   ]
  },
  {
   "cell_type": "code",
   "execution_count": null,
   "id": "aac1aa01",
   "metadata": {},
   "outputs": [],
   "source": [
    "mat=confusion_matrix(test_labels, predictions['K Nearest Neighbors'])\n",
    "sns.heatmap(mat.T,square=True,annot=True,fmt='d',cbar=False)"
   ]
  },
  {
   "cell_type": "markdown",
   "id": "4c3186fa",
   "metadata": {},
   "source": [
    "#### Multi-Layer Perceptron (MLP)"
   ]
  },
  {
   "cell_type": "code",
   "execution_count": 30,
   "id": "a16e7c61",
   "metadata": {},
   "outputs": [
    {
     "name": "stdout",
     "output_type": "stream",
     "text": [
      "              precision    recall  f1-score   support\n",
      "\n",
      "         0.0       0.98      0.75      0.85   1705436\n",
      "         1.0       0.10      0.60      0.17     79930\n",
      "\n",
      "    accuracy                           0.75   1785366\n",
      "   macro avg       0.54      0.68      0.51   1785366\n",
      "weighted avg       0.94      0.75      0.82   1785366\n",
      "\n",
      "NDCG score = 0.43177258628129767\n"
     ]
    }
   ],
   "source": [
    "from sklearn.neural_network import MLPClassifier\n",
    "\n",
    "clf = MLPClassifier()\n",
    "model=clf.fit(train_set_pca, train_labels)\n",
    "predictions['Multi-Layer Perceptron'] = clf.predict(test_set_pca)\n",
    "\n",
    "print (classification_report(test_labels, predictions['Multi-Layer Perceptron'], zero_division=0))\n",
    "accuracy['Multi-Layer Perceptron']=accuracy_score(test_labels, predictions['Multi-Layer Perceptron'])\n",
    "f1score['Multi-Layer Perceptron']=f1_score(test_labels,predictions['Multi-Layer Perceptron'],average='macro',zero_division=0)\n",
    "ndcg['Multi-Layer Perceptron']=ndcg_calc(predictions['Multi-Layer Perceptron'],test_labels)\n",
    "print(\"NDCG score = \" + str(ndcg['Multi-Layer Perceptron']))"
   ]
  },
  {
   "cell_type": "code",
   "execution_count": 31,
   "id": "c021b871",
   "metadata": {},
   "outputs": [
    {
     "data": {
      "text/plain": [
       "<AxesSubplot:>"
      ]
     },
     "execution_count": 31,
     "metadata": {},
     "output_type": "execute_result"
    },
    {
     "data": {
      "image/png": "[encoded data removed]",
      "text/plain": [
       "<Figure size 432x288 with 1 Axes>"
      ]
     },
     "metadata": {
      "needs_background": "light"
     },
     "output_type": "display_data"
    }
   ],
   "source": [
    "mat=confusion_matrix(test_labels, predictions['Multi-Layer Perceptron'])\n",
    "sns.heatmap(mat.T,square=True,annot=True,fmt='d',cbar=False)"
   ]
  },
  {
   "cell_type": "markdown",
   "id": "cdd99e29",
   "metadata": {},
   "source": [
    "#### Support Vector Machines (SVM)"
   ]
  },
  {
   "cell_type": "code",
   "execution_count": null,
   "id": "ce4fd81a",
   "metadata": {},
   "outputs": [],
   "source": [
    "from sklearn import svm\n",
    "\n",
    "clf = svm.SVC()\n",
    "model=clf.fit(train_set_pca, train_labels)\n",
    "predictions['Support Vector Machines'] = clf.predict(test_set_pca)\n",
    "\n",
    "print (classification_report(test_labels, predictions['Support Vector Machines'], zero_division=0))\n",
    "accuracy['Support Vector Machines']=accuracy_score(test_labels, predictions['Support Vector Machines'])\n",
    "f1score['Support Vector Machines']=f1_score(test_labels,predictions['Support Vector Machines'],average='macro',zero_division=0)\n",
    "ndcg['Support Vector Machines']=ndcg_calc(predictions['Support Vector Machines'],test_labels)\n",
    "print(\"NDCG score = \" + str(ndcg['Support Vector Machines']))"
   ]
  },
  {
   "cell_type": "code",
   "execution_count": null,
   "id": "1846ba58",
   "metadata": {},
   "outputs": [],
   "source": [
    "mat=confusion_matrix(test_labels, predictions['Support Vector Machines'])\n",
    "sns.heatmap(mat.T,square=True,annot=True,fmt='d',cbar=False)"
   ]
  },
  {
   "cell_type": "markdown",
   "id": "1b4cfacf",
   "metadata": {},
   "source": [
    "#### Random Forest"
   ]
  },
  {
   "cell_type": "code",
   "execution_count": 33,
   "id": "009c2517",
   "metadata": {
    "scrolled": true
   },
   "outputs": [
    {
     "name": "stdout",
     "output_type": "stream",
     "text": [
      "              precision    recall  f1-score   support\n",
      "\n",
      "         0.0       0.98      0.70      0.82   1705436\n",
      "         1.0       0.09      0.67      0.16     79930\n",
      "\n",
      "    accuracy                           0.70   1785366\n",
      "   macro avg       0.54      0.68      0.49   1785366\n",
      "weighted avg       0.94      0.70      0.79   1785366\n",
      "\n",
      "NDCG score = 0.4196148250310314\n"
     ]
    }
   ],
   "source": [
    "from sklearn.ensemble import RandomForestClassifier\n",
    "\n",
    "clf = RandomForestClassifier()\n",
    "model=clf.fit(train_set_pca, train_labels)\n",
    "predictions['Random Forest']=clf.predict(test_set_pca)\n",
    "\n",
    "print (classification_report(test_labels, predictions['Random Forest'], zero_division=0))\n",
    "accuracy['Random Forest']=accuracy_score(test_labels, predictions['Random Forest'])\n",
    "f1score['Random Forest']=f1_score(test_labels,predictions['Random Forest'],average='macro',zero_division=0)\n",
    "ndcg['Random Forest']=ndcg_calc(predictions['Random Forest'],test_labels)\n",
    "print(\"NDCG score = \" + str(ndcg['Random Forest']))"
   ]
  },
  {
   "cell_type": "code",
   "execution_count": 34,
   "id": "40491111",
   "metadata": {},
   "outputs": [
    {
     "data": {
      "text/plain": [
       "<AxesSubplot:>"
      ]
     },
     "execution_count": 34,
     "metadata": {},
     "output_type": "execute_result"
    },
    {
     "data": {
      "image/png": "[encoded data removed]",
      "text/plain": [
       "<Figure size 432x288 with 1 Axes>"
      ]
     },
     "metadata": {
      "needs_background": "light"
     },
     "output_type": "display_data"
    }
   ],
   "source": [
    "mat=confusion_matrix(test_labels, predictions['Random Forest'])\n",
    "sns.heatmap(mat.T,square=True,annot=True,fmt='d',cbar=False)"
   ]
  },
  {
   "cell_type": "code",
   "execution_count": 38,
   "id": "2e1037cd",
   "metadata": {},
   "outputs": [
    {
     "data": {
      "text/plain": [
       "Text(0, 0.5, 'Features')"
      ]
     },
     "execution_count": 38,
     "metadata": {},
     "output_type": "execute_result"
    },
    {
     "data": {
      "image/png": "[encoded data removed]",
      "text/plain": [
       "<Figure size 640x480 with 1 Axes>"
      ]
     },
     "metadata": {
      "needs_background": "light"
     },
     "output_type": "display_data"
    }
   ],
   "source": [
    "import matplotlib.pyplot as plt\n",
    "plt.figure(figsize=(8, 6), dpi=80)\n",
    "plt.barh(train_set.columns, clf.feature_importances_)\n",
    "plt.title(\"Importance of Each Feature\")\n",
    "plt.xlabel('Importance')\n",
    "plt.ylabel('Features')"
   ]
  },
  {
   "cell_type": "markdown",
   "id": "5ade5692",
   "metadata": {},
   "source": [
    "#### AdaBoost"
   ]
  },
  {
   "cell_type": "code",
   "execution_count": 38,
   "id": "b904cc5e",
   "metadata": {},
   "outputs": [
    {
     "name": "stdout",
     "output_type": "stream",
     "text": [
      "              precision    recall  f1-score   support\n",
      "\n",
      "         0.0       0.98      0.71      0.82   1705436\n",
      "         1.0       0.10      0.66      0.17     79930\n",
      "\n",
      "    accuracy                           0.71   1785366\n",
      "   macro avg       0.54      0.69      0.50   1785366\n",
      "weighted avg       0.94      0.71      0.79   1785366\n",
      "\n",
      "NDCG score = 0.4271800813871368\n"
     ]
    }
   ],
   "source": [
    "from sklearn.ensemble import AdaBoostClassifier\n",
    "\n",
    "ada = AdaBoostClassifier()\n",
    "model=ada.fit(train_set_pca, train_labels)\n",
    "predictions['Ada Boost']=ada.predict(test_set_pca)\n",
    "\n",
    "print (classification_report(test_labels, predictions['Ada Boost'], zero_division=0))\n",
    "accuracy['Ada Boost']=accuracy_score(test_labels, predictions['Ada Boost'])\n",
    "f1score['Ada Boost']=f1_score(test_labels,predictions['Ada Boost'],average='macro',zero_division=0)\n",
    "ndcg['Ada Boost']=ndcg_calc(predictions['Ada Boost'],test_labels)\n",
    "print(\"NDCG score = \" + str(ndcg['Ada Boost']))"
   ]
  },
  {
   "cell_type": "code",
   "execution_count": 39,
   "id": "0e1f5d06",
   "metadata": {},
   "outputs": [
    {
     "data": {
      "text/plain": [
       "<AxesSubplot:>"
      ]
     },
     "execution_count": 39,
     "metadata": {},
     "output_type": "execute_result"
    },
    {
     "data": {
      "image/png": "[encoded data removed]",
      "text/plain": [
       "<Figure size 432x288 with 1 Axes>"
      ]
     },
     "metadata": {
      "needs_background": "light"
     },
     "output_type": "display_data"
    }
   ],
   "source": [
    "mat=confusion_matrix(test_labels, predictions['Ada Boost'])\n",
    "sns.heatmap(mat.T,square=True,annot=True,fmt='d',cbar=False)"
   ]
  },
  {
   "cell_type": "markdown",
   "id": "9edc4257",
   "metadata": {},
   "source": [
    "### RESULTS - PLOTS"
   ]
  },
  {
   "cell_type": "markdown",
   "id": "b5508620",
   "metadata": {},
   "source": [
    "#### Accuracy"
   ]
  },
  {
   "cell_type": "code",
   "execution_count": 40,
   "id": "35cd61f2",
   "metadata": {},
   "outputs": [
    {
     "data": {
      "image/png": "[encoded data removed]",
      "text/plain": [
       "<Figure size 432x288 with 1 Axes>"
      ]
     },
     "metadata": {
      "needs_background": "light"
     },
     "output_type": "display_data"
    }
   ],
   "source": [
    "accuracy_names = list(accuracy.keys())\n",
    "accuracy_values = list(accuracy.values())\n",
    "\n",
    "plt.barh(range(len(accuracy)), accuracy_values, tick_label=accuracy_names)\n",
    "plt.title('Accuracy For each Method')\n",
    "plt.xlabel('Accuracy')\n",
    "plt.ylabel('Method')\n",
    "\n",
    "plt.show()"
   ]
  },
  {
   "cell_type": "code",
   "execution_count": 41,
   "id": "09114bba",
   "metadata": {},
   "outputs": [
    {
     "name": "stdout",
     "output_type": "stream",
     "text": [
      "Accuracy Values\n",
      "Gaussian Naive Bayes  :  0.607256999405164\n",
      "Logistic Regression  :  0.6153724222372331\n",
      "Multi-Layer Perceptron  :  0.7459540508780833\n",
      "Random Forest  :  0.6973332078688628\n",
      "Ada Boost  :  0.7067615267681808\n"
     ]
    }
   ],
   "source": [
    "print('Accuracy Values' )\n",
    "for key, value in accuracy.items():\n",
    "    print(key, ' : ', value)"
   ]
  },
  {
   "cell_type": "markdown",
   "id": "fdb3125f",
   "metadata": {},
   "source": [
    "#### F1-score"
   ]
  },
  {
   "cell_type": "code",
   "execution_count": 42,
   "id": "24cf61ba",
   "metadata": {},
   "outputs": [
    {
     "data": {
      "image/png": "[encoded data removed]",
      "text/plain": [
       "<Figure size 432x288 with 1 Axes>"
      ]
     },
     "metadata": {
      "needs_background": "light"
     },
     "output_type": "display_data"
    }
   ],
   "source": [
    "f1score_names = list(f1score.keys())\n",
    "f1score_values = list(f1score.values())\n",
    "\n",
    "plt.barh(range(len(f1score)), f1score_values, tick_label=f1score_names)\n",
    "plt.title('F1-score For each Method')\n",
    "plt.xlabel('F1-score')\n",
    "plt.ylabel('Method')\n",
    "\n",
    "plt.show()"
   ]
  },
  {
   "cell_type": "code",
   "execution_count": 43,
   "id": "d0ed51e2",
   "metadata": {},
   "outputs": [
    {
     "name": "stdout",
     "output_type": "stream",
     "text": [
      "F1-Score Values\n",
      "Gaussian Naive Bayes  :  0.4454397409251112\n",
      "Logistic Regression  :  0.44957880828966834\n",
      "Multi-Layer Perceptron  :  0.5122569403157282\n",
      "Random Forest  :  0.4899748816399052\n",
      "Ada Boost  :  0.495308760413967\n"
     ]
    }
   ],
   "source": [
    "print('F1-Score Values' )\n",
    "for key, value in f1score.items():\n",
    "    print(key, ' : ', value)"
   ]
  },
  {
   "cell_type": "markdown",
   "id": "0837ddc6",
   "metadata": {},
   "source": [
    "#### Normalized Discounted Cumulative Gain (NDCG)"
   ]
  },
  {
   "cell_type": "code",
   "execution_count": 44,
   "id": "9c625395",
   "metadata": {},
   "outputs": [
    {
     "data": {
      "image/png": "[encoded data removed]",
      "text/plain": [
       "<Figure size 432x288 with 1 Axes>"
      ]
     },
     "metadata": {
      "needs_background": "light"
     },
     "output_type": "display_data"
    }
   ],
   "source": [
    "ndcg_names = list(ndcg.keys())\n",
    "ndcg_values = list(ndcg.values())\n",
    "\n",
    "plt.barh(range(len(ndcg)),ndcg_values, tick_label=ndcg_names)\n",
    "plt.title('NDCG Score For each Method')\n",
    "plt.xlabel('NDCG Score')\n",
    "plt.ylabel('Method')\n",
    "\n",
    "plt.show()"
   ]
  },
  {
   "cell_type": "code",
   "execution_count": 45,
   "id": "d42156e0",
   "metadata": {},
   "outputs": [
    {
     "name": "stdout",
     "output_type": "stream",
     "text": [
      "NDCG Score Values\n",
      "Gaussian Naive Bayes  :  0.4039092382196658\n",
      "Logistic Regression  :  0.4050962760424247\n",
      "Multi-Layer Perceptron  :  0.43177258628129767\n",
      "Random Forest  :  0.4196148250310314\n",
      "Ada Boost  :  0.4271800813871368\n"
     ]
    }
   ],
   "source": [
    "print('NDCG Score Values' )\n",
    "for key, value in ndcg.items():\n",
    "    print(key, ' : ', value)"
   ]
  }
 ],
 "metadata": {
  "kernelspec": {
   "display_name": "Python 3",
   "language": "python",
   "name": "python3"
  },
  "language_info": {
   "codemirror_mode": {
    "name": "ipython",
    "version": 3
   },
   "file_extension": ".py",
   "mimetype": "text/x-python",
   "name": "python",
   "nbconvert_exporter": "python",
   "pygments_lexer": "ipython3",
   "version": "3.8.8"
  }
 },
 "nbformat": 4,
 "nbformat_minor": 5
}
